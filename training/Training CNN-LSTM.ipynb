{
 "cells": [
  {
   "cell_type": "markdown",
   "metadata": {},
   "source": [
    "## 🧠 CNN-LSTM Model Training — Separate File\n",
    "\n",
    "In this file, we are training the CNN-LSTM model on the data we have collected.\n",
    "\n",
    "Since many parts of the data processing steps differ from those used in training the Random Forest and MLP models, we chose to train the CNN-LSTM model in a new, separate file.\n",
    "\n",
    "This separation ensures cleaner organization and prevents conflicts between different model training pipelines.\n"
   ]
  },
  {
   "cell_type": "markdown",
   "metadata": {
    "id": "HuJFlhcWSt5S"
   },
   "source": [
    "# 1.STPU"
   ]
  },
  {
   "cell_type": "code",
   "execution_count": 63,
   "metadata": {
    "id": "FCL0EhRpS8m5"
   },
   "outputs": [],
   "source": [
    "# Loading the data\n",
    "\n",
    "import pandas as pd\n",
    "\n",
    "stpu_file_paths = [\n",
    "    \"./data/STPU/stpu1.xlsx\",\n",
    "    \"./data/STPU/stpu2.xlsx\",\n",
    "    \"./data/STPU/stpu3.xlsx\",\n",
    "    \"./data/STPU/stpu4.xlsx\",\n",
    "    \"./data/STPU/stpu5.xlsx\",\n",
    "    \"./data/STPU/stpu6.xlsx\",\n",
    "    \"./data/STPU/stpu7.xlsx\",\n",
    "    \"./data/STPU/stpu8.xlsx\",\n",
    "    \"./data/STPU/stpu9.xlsx\",\n",
    "    \"./data/STPU/stpu10.xlsx\",\n",
    "    \"./data/STPU/stpu11.xlsx\",\n",
    "    \"./data/STPU/stpu12.xlsx\",\n",
    "    \"./data/STPU/stpu13.xlsx\",\n",
    "    \"./data/STPU/stpu14.xlsx\",\n",
    "    \"./data/STPU/stpu15.xlsx\",\n",
    "    \"./data/STPU/stpu16.xlsx\",\n",
    "    \"./data/STPU/stpu17.xlsx\",\n",
    "    \"./data/STPU/stpu18.xlsx\",\n",
    "    \"./data/STPU/stpu19.xlsx\",\n",
    "    \"./data/STPU/stpu20.xlsx\",\n",
    "    \"./data/STPU/stpu21.xlsx\",\n",
    "    \"./data/STPU/stpu22.xlsx\",\n",
    "    \"./data/STPU/stpu23.xlsx\",\n",
    "    \"./data/STPU/stpu24.xlsx\",\n",
    "    \"./data/STPU/stpu25.xlsx\",\n",
    "    \"./data/STPU/stpu26.xlsx\",\n",
    "    \"./data/STPU/stpu27.xlsx\",\n",
    "    \"./data/STPU/stpu28.xlsx\",\n",
    "    \"./data/STPU/stpu29.xlsx\",\n",
    "    \"./data/STPU/stpu30.xlsx\",\n",
    "    \"./data/STPU/stpu31.xlsx\",\n",
    "    \"./data/STPU/stpu32.xlsx\",\n",
    "    \"./data/STPU/stpu33.xlsx\",\n",
    "    \"./data/STPU/stpu34.xlsx\",\n",
    "    \"./data/STPU/stpu35.xlsx\",\n",
    "    \"./data/STPU/stpu36.xlsx\",\n",
    "    \"./data/STPU/stpu37.xlsx\",\n",
    "    \"./data/STPU/stpu38.xlsx\",\n",
    "    \"./data/STPU/stpu39.xlsx\",\n",
    "    \"./data/STPU/stpu40.xlsx\",\n",
    "    \"./data/STPU/stpu41.xlsx\",\n",
    "    \"./data/STPU/stpu42.xlsx\",\n",
    "    \"./data/STPU/stpu43.xlsx\",\n",
    "    \"./data/STPU/stpu44.xlsx\",\n",
    "    \"./data/STPU/stpu45.xlsx\",\n",
    "    \"./data/STPU/stpu46.xlsx\",\n",
    "    \"./data/STPU/stpu47.xlsx\",\n",
    "    \"./data/STPU/stpu48.xlsx\",\n",
    "    \"./data/STPU/stpu49.xlsx\",\n",
    "    \"./data/STPU/stpu50.xlsx\",\n",
    "    \"./data/STPU/stpu51.xlsx\",\n",
    "    \"./data/STPU/stpu52.xlsx\",\n",
    "    \"./data/STPU/stpu53.xlsx\",\n",
    "    \"./data/STPU/stpu54.xlsx\",\n",
    "    \"./data/STPU/stpu55.xlsx\",\n",
    "    \"./data/STPU/stpu56.xlsx\",\n",
    "    \"./data/STPU/stpu57.xlsx\",\n",
    "    \"./data/STPU/stpu58.xlsx\",\n",
    "    \"./data/STPU/stpu59.xlsx\",\n",
    "    \"./data/STPU/stpu60.xlsx\",\n",
    "    \"./data/STPU/stpu61.xlsx\",\n",
    "    \"./data/STPU/stpu62.xlsx\",\n",
    "    \"./data/STPU/stpu63.xlsx\",\n",
    "    \"./data/STPU/stpu64.xlsx\",\n",
    "    \"./data/STPU/stpu65.xlsx\",\n",
    "    \"./data/STPU/stpu66.xlsx\",\n",
    "    \"./data/STPU/stpu67.xlsx\",\n",
    "    \"./data/STPU/stpu68.xlsx\",\n",
    "    \"./data/STPU/stpu69.xlsx\",\n",
    "    \"./data/STPU/stpu70.xlsx\",\n",
    "    ]\n",
    "\n",
    "# Loading the excel files into dataframes\n",
    "stpu_dfs = [pd.read_excel(file_path) for file_path in stpu_file_paths]\n"
   ]
  },
  {
   "cell_type": "code",
   "execution_count": 64,
   "metadata": {},
   "outputs": [
    {
     "name": "stdout",
     "output_type": "stream",
     "text": [
      "        time  ax (m/s^2)  ay (m/s^2)  az (m/s^2)  atotal  atotal_smoothed  \\\n",
      "0  76.451308     -0.6297     -0.0880      0.2512   0.684           1.0136   \n",
      "1  76.452642     -0.7964     -0.1188     -0.4001   0.899           1.1646   \n",
      "2  76.453499     -1.0984     -0.1765     -0.9910   1.490           1.3356   \n",
      "3  76.454424     -1.3275     -0.2179     -1.2456   1.833           1.4834   \n",
      "4  76.455192     -1.3682     -0.3023     -1.0842   1.772           1.5082   \n",
      "\n",
      "   still  still_change               movement_label  label  \n",
      "0  False           179  tommy_standing_to_pushup_10      0  \n",
      "1  False           179  tommy_standing_to_pushup_10      0  \n",
      "2  False           179  tommy_standing_to_pushup_10      0  \n",
      "3  False           179  tommy_standing_to_pushup_10      0  \n",
      "4  False           179  tommy_standing_to_pushup_10      0  \n"
     ]
    }
   ],
   "source": [
    "# Assume dfs_list contains all your individual DataFrames\n",
    "stpu = pd.concat(stpu_dfs, ignore_index=True)\n",
    "\n",
    "# Label every sample as '0 (push-up transition)\n",
    "stpu['label'] = 0 # 0= standing→pushup\n",
    "\n",
    "# Verify\n",
    "print(stpu.head())"
   ]
  },
  {
   "cell_type": "markdown",
   "metadata": {
    "id": "3MjhO4MLg1Xu"
   },
   "source": [
    "All dataframes have identical structures. There are no missing values. The features needed are:\n",
    "1. ax\n",
    "2. ay\n",
    "3. az\n",
    "4. atotal"
   ]
  },
  {
   "cell_type": "code",
   "execution_count": 65,
   "metadata": {
    "id": "y6DcScBehyiX"
   },
   "outputs": [],
   "source": [
    "stpu = stpu.rename(columns={\n",
    "    'ax (m/s^2)': 'ax',\n",
    "    'ay (m/s^2)': 'ay', \n",
    "    'az (m/s^2)': 'az'\n",
    "})\n",
    "\n",
    "\n",
    "stpu = stpu.drop(columns=['atotal','atotal_smoothed', 'still', 'still_change', 'movement_label'])"
   ]
  },
  {
   "cell_type": "code",
   "execution_count": 66,
   "metadata": {
    "colab": {
     "base_uri": "https://localhost:8080/",
     "height": 206
    },
    "id": "ylsSam5CiB5n",
    "outputId": "371e0770-470b-457a-b5bd-523dd6918e6a"
   },
   "outputs": [
    {
     "data": {
      "text/html": [
       "<div>\n",
       "<style scoped>\n",
       "    .dataframe tbody tr th:only-of-type {\n",
       "        vertical-align: middle;\n",
       "    }\n",
       "\n",
       "    .dataframe tbody tr th {\n",
       "        vertical-align: top;\n",
       "    }\n",
       "\n",
       "    .dataframe thead th {\n",
       "        text-align: right;\n",
       "    }\n",
       "</style>\n",
       "<table border=\"1\" class=\"dataframe\">\n",
       "  <thead>\n",
       "    <tr style=\"text-align: right;\">\n",
       "      <th></th>\n",
       "      <th>time</th>\n",
       "      <th>ax</th>\n",
       "      <th>ay</th>\n",
       "      <th>az</th>\n",
       "      <th>label</th>\n",
       "    </tr>\n",
       "  </thead>\n",
       "  <tbody>\n",
       "    <tr>\n",
       "      <th>0</th>\n",
       "      <td>76.451308</td>\n",
       "      <td>-0.6297</td>\n",
       "      <td>-0.0880</td>\n",
       "      <td>0.2512</td>\n",
       "      <td>0</td>\n",
       "    </tr>\n",
       "    <tr>\n",
       "      <th>1</th>\n",
       "      <td>76.452642</td>\n",
       "      <td>-0.7964</td>\n",
       "      <td>-0.1188</td>\n",
       "      <td>-0.4001</td>\n",
       "      <td>0</td>\n",
       "    </tr>\n",
       "    <tr>\n",
       "      <th>2</th>\n",
       "      <td>76.453499</td>\n",
       "      <td>-1.0984</td>\n",
       "      <td>-0.1765</td>\n",
       "      <td>-0.9910</td>\n",
       "      <td>0</td>\n",
       "    </tr>\n",
       "    <tr>\n",
       "      <th>3</th>\n",
       "      <td>76.454424</td>\n",
       "      <td>-1.3275</td>\n",
       "      <td>-0.2179</td>\n",
       "      <td>-1.2456</td>\n",
       "      <td>0</td>\n",
       "    </tr>\n",
       "    <tr>\n",
       "      <th>4</th>\n",
       "      <td>76.455192</td>\n",
       "      <td>-1.3682</td>\n",
       "      <td>-0.3023</td>\n",
       "      <td>-1.0842</td>\n",
       "      <td>0</td>\n",
       "    </tr>\n",
       "  </tbody>\n",
       "</table>\n",
       "</div>"
      ],
      "text/plain": [
       "        time      ax      ay      az  label\n",
       "0  76.451308 -0.6297 -0.0880  0.2512      0\n",
       "1  76.452642 -0.7964 -0.1188 -0.4001      0\n",
       "2  76.453499 -1.0984 -0.1765 -0.9910      0\n",
       "3  76.454424 -1.3275 -0.2179 -1.2456      0\n",
       "4  76.455192 -1.3682 -0.3023 -1.0842      0"
      ]
     },
     "execution_count": 66,
     "metadata": {},
     "output_type": "execute_result"
    }
   ],
   "source": [
    "# Confirming changes\n",
    "stpu.head()"
   ]
  },
  {
   "cell_type": "markdown",
   "metadata": {
    "id": "7Jd-2NR-Z1mN"
   },
   "source": [
    "# 2.PUR"
   ]
  },
  {
   "cell_type": "code",
   "execution_count": 67,
   "metadata": {
    "id": "vfF_VutFZ9Jj"
   },
   "outputs": [],
   "source": [
    "# Loading the data\n",
    "\n",
    "pur_file_paths = [\n",
    "    \"./data/PUR/pur1.csv\",\n",
    "    \"./data/PUR/pur2.csv\",\n",
    "    \"./data/PUR/pur3.csv\",\n",
    "    \"./data/PUR/pur4.csv\",\n",
    "    \"./data/PUR/pur5.csv\",\n",
    "    \"./data/PUR/pur6.csv\",\n",
    "    \"./data/PUR/pur7.csv\",\n",
    "    \"./data/PUR/pur8.csv\",\n",
    "    ]\n",
    "\n",
    "# Loading the csv files into dataframes\n",
    "pur_dfs = [pd.read_csv(file_path) for file_path in pur_file_paths]"
   ]
  },
  {
   "cell_type": "code",
   "execution_count": 68,
   "metadata": {
    "colab": {
     "base_uri": "https://localhost:8080/",
     "height": 206
    },
    "id": "v_4-4aNrabvw",
    "outputId": "0e0de8eb-5abf-43e1-940b-348588986f8a"
   },
   "outputs": [
    {
     "name": "stdout",
     "output_type": "stream",
     "text": [
      "       time  ax (m/s^2)  ay (m/s^2)  az (m/s^2)  aT (m/s^2)  atotal  label\n",
      "0  0.002824     -0.0072      0.1448      0.0007       0.145     NaN      1\n",
      "1  0.003206     -0.0257      0.0913     -0.0591       0.112     NaN      1\n",
      "2  0.008790     -0.0057      0.0301     -0.1714       0.174     NaN      1\n",
      "3  0.021622     -0.0379     -0.0295     -0.2115       0.217     NaN      1\n",
      "4  0.022046     -0.0600     -0.0296     -0.1485       0.163     NaN      1\n"
     ]
    }
   ],
   "source": [
    "# Assume dfs_list contains all your individual DataFrames\n",
    "pur = pd.concat(pur_dfs, ignore_index=True)\n",
    "\n",
    "# Label every sample as '1' (push-up transition)\n",
    "pur['label'] = 1 \n",
    "\n",
    "# Verify\n",
    "print(pur.head())"
   ]
  },
  {
   "cell_type": "markdown",
   "metadata": {
    "id": "5q5lLCPGa1BJ"
   },
   "source": [
    "All dataframes have identical structures. There are no missing values. Dtypes are correct. The features needed are:\n",
    "1. ax\n",
    "2. ay\n",
    "3. az\n",
    "4. atotal"
   ]
  },
  {
   "cell_type": "code",
   "execution_count": 69,
   "metadata": {
    "id": "scbzXJmueVXJ"
   },
   "outputs": [],
   "source": [
    "pur = pur.rename(columns={\n",
    "    'ax (m/s^2)': 'ax',\n",
    "    'ay (m/s^2)': 'ay', \n",
    "    'az (m/s^2)': 'az'\n",
    "})\n",
    "\n",
    "\n",
    "pur = pur.drop(columns=['atotal','aT (m/s^2)'])"
   ]
  },
  {
   "cell_type": "code",
   "execution_count": 70,
   "metadata": {
    "id": "7U9okVbseDIW"
   },
   "outputs": [
    {
     "data": {
      "text/html": [
       "<div>\n",
       "<style scoped>\n",
       "    .dataframe tbody tr th:only-of-type {\n",
       "        vertical-align: middle;\n",
       "    }\n",
       "\n",
       "    .dataframe tbody tr th {\n",
       "        vertical-align: top;\n",
       "    }\n",
       "\n",
       "    .dataframe thead th {\n",
       "        text-align: right;\n",
       "    }\n",
       "</style>\n",
       "<table border=\"1\" class=\"dataframe\">\n",
       "  <thead>\n",
       "    <tr style=\"text-align: right;\">\n",
       "      <th></th>\n",
       "      <th>time</th>\n",
       "      <th>ax</th>\n",
       "      <th>ay</th>\n",
       "      <th>az</th>\n",
       "      <th>label</th>\n",
       "    </tr>\n",
       "  </thead>\n",
       "  <tbody>\n",
       "    <tr>\n",
       "      <th>0</th>\n",
       "      <td>0.002824</td>\n",
       "      <td>-0.0072</td>\n",
       "      <td>0.1448</td>\n",
       "      <td>0.0007</td>\n",
       "      <td>1</td>\n",
       "    </tr>\n",
       "    <tr>\n",
       "      <th>1</th>\n",
       "      <td>0.003206</td>\n",
       "      <td>-0.0257</td>\n",
       "      <td>0.0913</td>\n",
       "      <td>-0.0591</td>\n",
       "      <td>1</td>\n",
       "    </tr>\n",
       "    <tr>\n",
       "      <th>2</th>\n",
       "      <td>0.008790</td>\n",
       "      <td>-0.0057</td>\n",
       "      <td>0.0301</td>\n",
       "      <td>-0.1714</td>\n",
       "      <td>1</td>\n",
       "    </tr>\n",
       "    <tr>\n",
       "      <th>3</th>\n",
       "      <td>0.021622</td>\n",
       "      <td>-0.0379</td>\n",
       "      <td>-0.0295</td>\n",
       "      <td>-0.2115</td>\n",
       "      <td>1</td>\n",
       "    </tr>\n",
       "    <tr>\n",
       "      <th>4</th>\n",
       "      <td>0.022046</td>\n",
       "      <td>-0.0600</td>\n",
       "      <td>-0.0296</td>\n",
       "      <td>-0.1485</td>\n",
       "      <td>1</td>\n",
       "    </tr>\n",
       "  </tbody>\n",
       "</table>\n",
       "</div>"
      ],
      "text/plain": [
       "       time      ax      ay      az  label\n",
       "0  0.002824 -0.0072  0.1448  0.0007      1\n",
       "1  0.003206 -0.0257  0.0913 -0.0591      1\n",
       "2  0.008790 -0.0057  0.0301 -0.1714      1\n",
       "3  0.021622 -0.0379 -0.0295 -0.2115      1\n",
       "4  0.022046 -0.0600 -0.0296 -0.1485      1"
      ]
     },
     "execution_count": 70,
     "metadata": {},
     "output_type": "execute_result"
    }
   ],
   "source": [
    "pur.head()"
   ]
  },
  {
   "cell_type": "markdown",
   "metadata": {
    "id": "efTpkQTI0kvQ"
   },
   "source": [
    "# 3.PUST"
   ]
  },
  {
   "cell_type": "code",
   "execution_count": 71,
   "metadata": {
    "id": "T-GAt7vk0uPP"
   },
   "outputs": [],
   "source": [
    "# Loading the data\n",
    "\n",
    "pust_file_paths = [\n",
    "    \"./data/PUST/pust1.xlsx\",\n",
    "    \"./data/PUST/pust2.xlsx\",\n",
    "    \"./data/PUST/pust3.xlsx\",\n",
    "    \"./data/PUST/pust4.xlsx\",\n",
    "    \"./data/PUST/pust5.xlsx\",\n",
    "    \"./data/PUST/pust6.xlsx\",\n",
    "    \"./data/PUST/pust7.xlsx\",\n",
    "    \"./data/PUST/pust8.xlsx\",\n",
    "    \"./data/PUST/pust9.xlsx\",\n",
    "    \"./data/PUST/pust10.xlsx\",\n",
    "    \"./data/PUST/pust11.xlsx\",\n",
    "    \"./data/PUST/pust12.xlsx\",\n",
    "    \"./data/PUST/pust13.xlsx\",\n",
    "    \"./data/PUST/pust14.xlsx\",\n",
    "    \"./data/PUST/pust15.xlsx\",\n",
    "    \"./data/PUST/pust16.xlsx\",\n",
    "    \"./data/PUST/pust17.xlsx\",\n",
    "    \"./data/PUST/pust18.xlsx\",\n",
    "    \"./data/PUST/pust19.xlsx\",\n",
    "    \"./data/PUST/pust20.xlsx\",\n",
    "    \"./data/PUST/pust21.xlsx\",\n",
    "    \"./data/PUST/pust22.xlsx\",\n",
    "    \"./data/PUST/pust23.xlsx\",\n",
    "    \"./data/PUST/pust24.xlsx\",\n",
    "    \"./data/PUST/pust25.xlsx\",\n",
    "    \"./data/PUST/pust26.xlsx\",\n",
    "    \"./data/PUST/pust27.xlsx\",\n",
    "    \"./data/PUST/pust28.xlsx\",\n",
    "    \"./data/PUST/pust29.xlsx\",\n",
    "    \"./data/PUST/pust30.xlsx\",\n",
    "    \"./data/PUST/pust31.xlsx\",\n",
    "    \"./data/PUST/pust32.xlsx\",\n",
    "    \"./data/PUST/pust33.xlsx\",\n",
    "    \"./data/PUST/pust34.xlsx\",\n",
    "    \"./data/PUST/pust35.xlsx\",\n",
    "    \"./data/PUST/pust36.xlsx\",\n",
    "    \"./data/PUST/pust37.xlsx\",\n",
    "    \"./data/PUST/pust38.xlsx\",\n",
    "    \"./data/PUST/pust39.xlsx\",\n",
    "    \"./data/PUST/pust40.xlsx\",\n",
    "    \"./data/PUST/pust41.xlsx\",\n",
    "    \"./data/PUST/pust42.xlsx\",\n",
    "    \"./data/PUST/pust43.xlsx\",\n",
    "    \"./data/PUST/pust44.xlsx\",\n",
    "    \"./data/PUST/pust45.xlsx\",\n",
    "    \"./data/PUST/pust46.xlsx\",\n",
    "    \"./data/PUST/pust47.xlsx\",\n",
    "    \"./data/PUST/pust48.xlsx\",\n",
    "    \"./data/PUST/pust49.xlsx\",\n",
    "    \"./data/PUST/pust50.xlsx\",\n",
    "    \"./data/PUST/pust51.xlsx\",\n",
    "    \"./data/PUST/pust52.xlsx\",\n",
    "    \"./data/PUST/pust53.xlsx\",\n",
    "    \"./data/PUST/pust54.xlsx\",\n",
    "    \"./data/PUST/pust55.xlsx\",\n",
    "    \"./data/PUST/pust56.xlsx\",\n",
    "    \"./data/PUST/pust57.xlsx\",\n",
    "    \"./data/PUST/pust58.xlsx\",\n",
    "    \"./data/PUST/pust59.xlsx\",\n",
    "    \"./data/PUST/pust60.xlsx\",\n",
    "    \"./data/PUST/pust61.xlsx\",\n",
    "    \"./data/PUST/pust62.xlsx\",\n",
    "    \"./data/PUST/pust63.xlsx\",\n",
    "    \"./data/PUST/pust64.xlsx\",\n",
    "    \"./data/PUST/pust65.xlsx\",\n",
    "    \"./data/PUST/pust66.xlsx\",\n",
    "    \"./data/PUST/pust67.xlsx\",\n",
    "    \"./data/PUST/pust68.xlsx\",\n",
    "    \"./data/PUST/pust69.xlsx\",\n",
    "    \"./data/PUST/pust70.xlsx\",\n",
    "    \"./data/PUST/pust71.xlsx\",\n",
    "    \"./data/PUST/pust72.xlsx\",\n",
    "    \"./data/PUST/pust73.xlsx\",\n",
    "    \"./data/PUST/pust74.xlsx\",\n",
    "    \"./data/PUST/pust75.xlsx\",\n",
    "    \"./data/PUST/pust76.xlsx\",\n",
    "    \"./data/PUST/pust77.xlsx\",\n",
    "    \"./data/PUST/pust78.xlsx\",\n",
    "    \"./data/PUST/pust79.xlsx\",\n",
    "    \"./data/PUST/pust80.xlsx\",\n",
    "    ]\n",
    "\n",
    "# Loading the excel files into dataframes\n",
    "pust_dfs = [pd.read_excel(file_path) for file_path in pust_file_paths]"
   ]
  },
  {
   "cell_type": "code",
   "execution_count": 72,
   "metadata": {
    "colab": {
     "base_uri": "https://localhost:8080/",
     "height": 206
    },
    "id": "2xnrD3IZ2DUK",
    "outputId": "6661169f-af8c-4b0a-9d79-a2544f684018"
   },
   "outputs": [
    {
     "name": "stdout",
     "output_type": "stream",
     "text": [
      "       time  ax (m/s^2)  ay (m/s^2)  az (m/s^2)  atotal  atotal_smoothed  \\\n",
      "0  6.846770     -0.4639     -0.0370     -0.8992   1.013           1.0978   \n",
      "1  6.848285     -0.5158      0.1646     -1.1533   1.274           1.2700   \n",
      "2  6.850284     -0.5547      0.3096     -1.4640   1.596           1.3884   \n",
      "3  6.863154     -0.7353      0.3796     -1.3543   1.587           1.4728   \n",
      "4  6.865061     -0.8782      0.3255     -1.1358   1.472           1.5052   \n",
      "\n",
      "   still  still_change             movement_label  label  \n",
      "0  False            13  anto_pushup_to_standing_1      2  \n",
      "1  False            13  anto_pushup_to_standing_1      2  \n",
      "2  False            13  anto_pushup_to_standing_1      2  \n",
      "3  False            13  anto_pushup_to_standing_1      2  \n",
      "4  False            13  anto_pushup_to_standing_1      2  \n"
     ]
    }
   ],
   "source": [
    "# Assume dfs_list contains all your individual DataFrames\n",
    "pust = pd.concat(pust_dfs, ignore_index=True)\n",
    "\n",
    "# Label every sample as '1' (push-up transition)\n",
    "pust['label'] = 2 #  = standing→pushup\n",
    "\n",
    "# Verify\n",
    "print(pust.head())"
   ]
  },
  {
   "cell_type": "code",
   "execution_count": 73,
   "metadata": {
    "colab": {
     "base_uri": "https://localhost:8080/"
    },
    "id": "qmoEkdYL2LtW",
    "outputId": "6818f9fc-9849-4d30-8ccb-6abe413b7440"
   },
   "outputs": [
    {
     "data": {
      "text/html": [
       "<div>\n",
       "<style scoped>\n",
       "    .dataframe tbody tr th:only-of-type {\n",
       "        vertical-align: middle;\n",
       "    }\n",
       "\n",
       "    .dataframe tbody tr th {\n",
       "        vertical-align: top;\n",
       "    }\n",
       "\n",
       "    .dataframe thead th {\n",
       "        text-align: right;\n",
       "    }\n",
       "</style>\n",
       "<table border=\"1\" class=\"dataframe\">\n",
       "  <thead>\n",
       "    <tr style=\"text-align: right;\">\n",
       "      <th></th>\n",
       "      <th>time</th>\n",
       "      <th>ax</th>\n",
       "      <th>ay</th>\n",
       "      <th>az</th>\n",
       "      <th>label</th>\n",
       "    </tr>\n",
       "  </thead>\n",
       "  <tbody>\n",
       "    <tr>\n",
       "      <th>0</th>\n",
       "      <td>6.846770</td>\n",
       "      <td>-0.4639</td>\n",
       "      <td>-0.0370</td>\n",
       "      <td>-0.8992</td>\n",
       "      <td>2</td>\n",
       "    </tr>\n",
       "    <tr>\n",
       "      <th>1</th>\n",
       "      <td>6.848285</td>\n",
       "      <td>-0.5158</td>\n",
       "      <td>0.1646</td>\n",
       "      <td>-1.1533</td>\n",
       "      <td>2</td>\n",
       "    </tr>\n",
       "    <tr>\n",
       "      <th>2</th>\n",
       "      <td>6.850284</td>\n",
       "      <td>-0.5547</td>\n",
       "      <td>0.3096</td>\n",
       "      <td>-1.4640</td>\n",
       "      <td>2</td>\n",
       "    </tr>\n",
       "    <tr>\n",
       "      <th>3</th>\n",
       "      <td>6.863154</td>\n",
       "      <td>-0.7353</td>\n",
       "      <td>0.3796</td>\n",
       "      <td>-1.3543</td>\n",
       "      <td>2</td>\n",
       "    </tr>\n",
       "    <tr>\n",
       "      <th>4</th>\n",
       "      <td>6.865061</td>\n",
       "      <td>-0.8782</td>\n",
       "      <td>0.3255</td>\n",
       "      <td>-1.1358</td>\n",
       "      <td>2</td>\n",
       "    </tr>\n",
       "  </tbody>\n",
       "</table>\n",
       "</div>"
      ],
      "text/plain": [
       "       time      ax      ay      az  label\n",
       "0  6.846770 -0.4639 -0.0370 -0.8992      2\n",
       "1  6.848285 -0.5158  0.1646 -1.1533      2\n",
       "2  6.850284 -0.5547  0.3096 -1.4640      2\n",
       "3  6.863154 -0.7353  0.3796 -1.3543      2\n",
       "4  6.865061 -0.8782  0.3255 -1.1358      2"
      ]
     },
     "execution_count": 73,
     "metadata": {},
     "output_type": "execute_result"
    }
   ],
   "source": [
    "pust = pust.rename(columns={\n",
    "    'ax (m/s^2)': 'ax',\n",
    "    'ay (m/s^2)': 'ay', \n",
    "    'az (m/s^2)': 'az'\n",
    "})\n",
    "\n",
    "\n",
    "pust = pust.drop(columns=['atotal','atotal_smoothed', 'still', 'still_change', 'movement_label'])\n",
    "pust.head()"
   ]
  },
  {
   "cell_type": "markdown",
   "metadata": {
    "id": "Y4GpMWaF2t28"
   },
   "source": [
    "All dataframes have identical structures. There are no missing values. The features needed are:\n",
    "1. ax\n",
    "2. ay\n",
    "3. az\n",
    "4. atotal"
   ]
  },
  {
   "cell_type": "markdown",
   "metadata": {
    "id": "FXrPqEVt7hJO"
   },
   "source": [
    "# 4.STSU"
   ]
  },
  {
   "cell_type": "code",
   "execution_count": 74,
   "metadata": {
    "id": "9ErsR4L_7q5Z"
   },
   "outputs": [],
   "source": [
    "# Loading the data\n",
    "\n",
    "stsu_file_paths = [\n",
    "    \"./data/STSU/stsu1.xlsx\",\n",
    "    \"./data/STSU/stsu2.xlsx\",\n",
    "    \"./data/STSU/stsu3.xlsx\",\n",
    "    \"./data/STSU/stsu4.xlsx\",\n",
    "    \"./data/STSU/stsu5.xlsx\",\n",
    "    \"./data/STSU/stsu6.xlsx\",\n",
    "    \"./data/STSU/stsu7.xlsx\",\n",
    "    \"./data/STSU/stsu8.xlsx\",\n",
    "    \"./data/STSU/stsu9.xlsx\",\n",
    "    \"./data/STSU/stsu10.xlsx\",\n",
    "    \"./data/STSU/stsu11.xlsx\",\n",
    "    \"./data/STSU/stsu12.xlsx\",\n",
    "    \"./data/STSU/stsu13.xlsx\",\n",
    "    \"./data/STSU/stsu14.xlsx\",\n",
    "    \"./data/STSU/stsu15.xlsx\",\n",
    "    \"./data/STSU/stsu16.xlsx\",\n",
    "    \"./data/STSU/stsu17.xlsx\",\n",
    "    \"./data/STSU/stsu18.xlsx\",\n",
    "    \"./data/STSU/stsu19.xlsx\",\n",
    "    \"./data/STSU/stsu20.xlsx\",\n",
    "    \"./data/STSU/stsu21.xlsx\",\n",
    "    \"./data/STSU/stsu22.xlsx\",\n",
    "    \"./data/STSU/stsu23.xlsx\",\n",
    "    \"./data/STSU/stsu24.xlsx\",\n",
    "    \"./data/STSU/stsu25.xlsx\",\n",
    "    \"./data/STSU/stsu26.xlsx\",\n",
    "    \"./data/STSU/stsu27.xlsx\",\n",
    "    \"./data/STSU/stsu28.xlsx\",\n",
    "    # \"./data/STSU/stsu29.xlsx\", does not exist\n",
    "    \"./data/STSU/stsu30.xlsx\",\n",
    "    \"./data/STSU/stsu31.xlsx\",\n",
    "    \"./data/STSU/stsu32.xlsx\",\n",
    "    \"./data/STSU/stsu33.xlsx\",\n",
    "    \"./data/STSU/stsu34.xlsx\",\n",
    "    \"./data/STSU/stsu35.xlsx\",\n",
    "    \"./data/STSU/stsu36.xlsx\",\n",
    "    \"./data/STSU/stsu37.xlsx\",\n",
    "    \"./data/STSU/stsu38.xlsx\",\n",
    "    \"./data/STSU/stsu39.xlsx\",\n",
    "    \"./data/STSU/stsu40.xlsx\",\n",
    "    \"./data/STSU/stsu41.xlsx\",\n",
    "    \"./data/STSU/stsu42.xlsx\",\n",
    "    \"./data/STSU/stsu43.xlsx\",\n",
    "    \"./data/STSU/stsu44.xlsx\",\n",
    "    \"./data/STSU/stsu45.xlsx\",\n",
    "    \"./data/STSU/stsu46.xlsx\",\n",
    "    \"./data/STSU/stsu47.xlsx\",\n",
    "    \"./data/STSU/stsu48.xlsx\",\n",
    "    \"./data/STSU/stsu49.xlsx\",\n",
    "    \"./data/STSU/stsu50.xlsx\",\n",
    "    \"./data/STSU/stsu51.xlsx\",\n",
    "    \"./data/STSU/stsu52.xlsx\",\n",
    "    \"./data/STSU/stsu53.xlsx\",\n",
    "    \"./data/STSU/stsu54.xlsx\",\n",
    "    \"./data/STSU/stsu55.xlsx\",\n",
    "    \"./data/STSU/stsu56.xlsx\",\n",
    "    \"./data/STSU/stsu57.xlsx\",\n",
    "    \"./data/STSU/stsu58.xlsx\",\n",
    "    \"./data/STSU/stsu59.xlsx\",\n",
    "    \"./data/STSU/stsu60.xlsx\",\n",
    "    \"./data/STSU/stsu61.xlsx\",\n",
    "    \"./data/STSU/stsu62.xlsx\",\n",
    "    \"./data/STSU/stsu63.xlsx\",\n",
    "    \"./data/STSU/stsu64.xlsx\",\n",
    "    \"./data/STSU/stsu65.xlsx\",\n",
    "    \"./data/STSU/stsu66.xlsx\",\n",
    "    \"./data/STSU/stsu67.xlsx\",\n",
    "    \"./data/STSU/stsu68.xlsx\",\n",
    "    \"./data/STSU/stsu69.xlsx\",\n",
    "    \"./data/STSU/stsu70.xlsx\",\n",
    "    \"./data/STSU/stsu71.xlsx\",\n",
    "    \"./data/STSU/stsu72.xlsx\",\n",
    "    \"./data/STSU/stsu73.xlsx\",\n",
    "    \"./data/STSU/stsu74.xlsx\",\n",
    "    \"./data/STSU/stsu75.xlsx\",\n",
    "    \"./data/STSU/stsu76.xlsx\",\n",
    "    \"./data/STSU/stsu77.xlsx\",\n",
    "    ]\n",
    "\n",
    "stsu_dfs = [pd.read_excel(file_path) for file_path in stsu_file_paths]"
   ]
  },
  {
   "cell_type": "code",
   "execution_count": 75,
   "metadata": {
    "colab": {
     "base_uri": "https://localhost:8080/",
     "height": 206
    },
    "id": "XgLT1rzU8hUY",
    "outputId": "27c133d7-9a6d-43ad-8700-05d8fa8e6cb3"
   },
   "outputs": [
    {
     "name": "stdout",
     "output_type": "stream",
     "text": [
      "        time  ax (m/s^2)  ay (m/s^2)  az (m/s^2)  atotal  atotal_smoothed  \\\n",
      "0  21.379306     -0.7272     -0.2440      0.0860   0.772           1.0066   \n",
      "1  21.410267     -0.9535     -0.5128     -0.5733   1.225           1.2828   \n",
      "2  21.411194     -1.1801     -0.7683     -1.0380   1.749           1.5108   \n",
      "3  21.412300     -1.2524     -0.9034     -1.2055   1.959           1.6464   \n",
      "4  21.413625     -1.1681     -0.9134     -1.1043   1.849           1.5792   \n",
      "\n",
      "   still  still_change               movement_label  label  \n",
      "0  False            41  georgio_standing_to_situp_3      3  \n",
      "1  False            41  georgio_standing_to_situp_3      3  \n",
      "2  False            41  georgio_standing_to_situp_3      3  \n",
      "3  False            41  georgio_standing_to_situp_3      3  \n",
      "4  False            41  georgio_standing_to_situp_3      3  \n"
     ]
    }
   ],
   "source": [
    "# Assume dfs_list contains all your individual DataFrames\n",
    "stsu = pd.concat(stsu_dfs, ignore_index=True)\n",
    "\n",
    "# Label every sample as '1' (push-up transition)\n",
    "stsu['label'] = 3 # 1 = standing→pushup\n",
    "\n",
    "# Verify\n",
    "print(stsu.head())"
   ]
  },
  {
   "cell_type": "code",
   "execution_count": 76,
   "metadata": {
    "colab": {
     "base_uri": "https://localhost:8080/"
    },
    "id": "Uc76ypUn9KJf",
    "outputId": "42121ed4-6d63-4e01-85a3-ea63d73bda34"
   },
   "outputs": [],
   "source": [
    "stsu = stsu.rename(columns={\n",
    "    'ax (m/s^2)': 'ax',\n",
    "    'ay (m/s^2)': 'ay', \n",
    "    'az (m/s^2)': 'az'\n",
    "})\n",
    "\n",
    "\n",
    "stsu = stsu.drop(columns=['atotal','atotal_smoothed', 'still', 'still_change', 'movement_label'])"
   ]
  },
  {
   "cell_type": "markdown",
   "metadata": {
    "id": "dFEclf8T9lLe"
   },
   "source": [
    "All dataframes have identical structures. There are no missing values. The features needed are:\n",
    "1. ax\n",
    "2. ay\n",
    "3. az\n",
    "4. atotal"
   ]
  },
  {
   "cell_type": "code",
   "execution_count": 77,
   "metadata": {
    "id": "VenPiUi696PC"
   },
   "outputs": [
    {
     "data": {
      "text/html": [
       "<div>\n",
       "<style scoped>\n",
       "    .dataframe tbody tr th:only-of-type {\n",
       "        vertical-align: middle;\n",
       "    }\n",
       "\n",
       "    .dataframe tbody tr th {\n",
       "        vertical-align: top;\n",
       "    }\n",
       "\n",
       "    .dataframe thead th {\n",
       "        text-align: right;\n",
       "    }\n",
       "</style>\n",
       "<table border=\"1\" class=\"dataframe\">\n",
       "  <thead>\n",
       "    <tr style=\"text-align: right;\">\n",
       "      <th></th>\n",
       "      <th>time</th>\n",
       "      <th>ax</th>\n",
       "      <th>ay</th>\n",
       "      <th>az</th>\n",
       "      <th>label</th>\n",
       "    </tr>\n",
       "  </thead>\n",
       "  <tbody>\n",
       "    <tr>\n",
       "      <th>0</th>\n",
       "      <td>21.379306</td>\n",
       "      <td>-0.7272</td>\n",
       "      <td>-0.2440</td>\n",
       "      <td>0.0860</td>\n",
       "      <td>3</td>\n",
       "    </tr>\n",
       "    <tr>\n",
       "      <th>1</th>\n",
       "      <td>21.410267</td>\n",
       "      <td>-0.9535</td>\n",
       "      <td>-0.5128</td>\n",
       "      <td>-0.5733</td>\n",
       "      <td>3</td>\n",
       "    </tr>\n",
       "    <tr>\n",
       "      <th>2</th>\n",
       "      <td>21.411194</td>\n",
       "      <td>-1.1801</td>\n",
       "      <td>-0.7683</td>\n",
       "      <td>-1.0380</td>\n",
       "      <td>3</td>\n",
       "    </tr>\n",
       "    <tr>\n",
       "      <th>3</th>\n",
       "      <td>21.412300</td>\n",
       "      <td>-1.2524</td>\n",
       "      <td>-0.9034</td>\n",
       "      <td>-1.2055</td>\n",
       "      <td>3</td>\n",
       "    </tr>\n",
       "    <tr>\n",
       "      <th>4</th>\n",
       "      <td>21.413625</td>\n",
       "      <td>-1.1681</td>\n",
       "      <td>-0.9134</td>\n",
       "      <td>-1.1043</td>\n",
       "      <td>3</td>\n",
       "    </tr>\n",
       "  </tbody>\n",
       "</table>\n",
       "</div>"
      ],
      "text/plain": [
       "        time      ax      ay      az  label\n",
       "0  21.379306 -0.7272 -0.2440  0.0860      3\n",
       "1  21.410267 -0.9535 -0.5128 -0.5733      3\n",
       "2  21.411194 -1.1801 -0.7683 -1.0380      3\n",
       "3  21.412300 -1.2524 -0.9034 -1.2055      3\n",
       "4  21.413625 -1.1681 -0.9134 -1.1043      3"
      ]
     },
     "execution_count": 77,
     "metadata": {},
     "output_type": "execute_result"
    }
   ],
   "source": [
    "stsu.head()"
   ]
  },
  {
   "cell_type": "markdown",
   "metadata": {
    "id": "4eeK7oMAKrgY"
   },
   "source": [
    "# 5.SUR"
   ]
  },
  {
   "cell_type": "code",
   "execution_count": 78,
   "metadata": {
    "id": "tkAlZWC_K5qq"
   },
   "outputs": [],
   "source": [
    "# Loading the data\n",
    "\n",
    "sur_file_paths = [\n",
    "    \"./data/SUR/sur1.csv\",\n",
    "    \"./data/SUR/sur2.csv\",\n",
    "    \"./data/SUR/sur3.csv\",\n",
    "    \"./data/SUR/sur4.csv\",\n",
    "    \"./data/SUR/sur5.csv\",\n",
    "    \"./data/SUR/sur6.csv\",\n",
    "    \"./data/SUR/sur7.csv\",\n",
    "    \"./data/SUR/sur8.csv\",\n",
    "]\n",
    "\n",
    "sur_dfs = [pd.read_csv(file_path) for file_path in sur_file_paths]"
   ]
  },
  {
   "cell_type": "code",
   "execution_count": 79,
   "metadata": {
    "colab": {
     "base_uri": "https://localhost:8080/",
     "height": 206
    },
    "id": "ZmgwPImsLWm3",
    "outputId": "ac28b2f5-6377-478d-c6a1-2052fe103f16"
   },
   "outputs": [
    {
     "name": "stdout",
     "output_type": "stream",
     "text": [
      "       time  ax (m/s^2)  ay (m/s^2)  az (m/s^2)  aT (m/s^2)  label\n",
      "0  0.004059      0.0309      0.0060     -0.0613       0.069      4\n",
      "1  0.004968      0.0543      0.0129     -0.0618       0.083      4\n",
      "2  0.025202      0.0803      0.0316     -0.0764       0.115      4\n",
      "3  0.026548      0.1231      0.0142     -0.0695       0.142      4\n",
      "4  0.027199      0.1231      0.0306     -0.0528       0.137      4\n"
     ]
    }
   ],
   "source": [
    "# Assume dfs_list contains all your individual DataFrames\n",
    "sur = pd.concat(sur_dfs, ignore_index=True)\n",
    "\n",
    "# Label every sample as '1' (push-up transition)\n",
    "sur['label'] =4  # 1 = standing→pushup\n",
    "\n",
    "# Verify\n",
    "print(sur.head())"
   ]
  },
  {
   "cell_type": "code",
   "execution_count": 80,
   "metadata": {
    "colab": {
     "base_uri": "https://localhost:8080/"
    },
    "id": "FDe2hEg0LZuu",
    "outputId": "95d1d7d4-8882-44fd-d561-0895d512c5b1"
   },
   "outputs": [
    {
     "data": {
      "text/html": [
       "<div>\n",
       "<style scoped>\n",
       "    .dataframe tbody tr th:only-of-type {\n",
       "        vertical-align: middle;\n",
       "    }\n",
       "\n",
       "    .dataframe tbody tr th {\n",
       "        vertical-align: top;\n",
       "    }\n",
       "\n",
       "    .dataframe thead th {\n",
       "        text-align: right;\n",
       "    }\n",
       "</style>\n",
       "<table border=\"1\" class=\"dataframe\">\n",
       "  <thead>\n",
       "    <tr style=\"text-align: right;\">\n",
       "      <th></th>\n",
       "      <th>time</th>\n",
       "      <th>ax</th>\n",
       "      <th>ay</th>\n",
       "      <th>az</th>\n",
       "      <th>label</th>\n",
       "    </tr>\n",
       "  </thead>\n",
       "  <tbody>\n",
       "    <tr>\n",
       "      <th>0</th>\n",
       "      <td>0.004059</td>\n",
       "      <td>0.0309</td>\n",
       "      <td>0.0060</td>\n",
       "      <td>-0.0613</td>\n",
       "      <td>4</td>\n",
       "    </tr>\n",
       "    <tr>\n",
       "      <th>1</th>\n",
       "      <td>0.004968</td>\n",
       "      <td>0.0543</td>\n",
       "      <td>0.0129</td>\n",
       "      <td>-0.0618</td>\n",
       "      <td>4</td>\n",
       "    </tr>\n",
       "    <tr>\n",
       "      <th>2</th>\n",
       "      <td>0.025202</td>\n",
       "      <td>0.0803</td>\n",
       "      <td>0.0316</td>\n",
       "      <td>-0.0764</td>\n",
       "      <td>4</td>\n",
       "    </tr>\n",
       "    <tr>\n",
       "      <th>3</th>\n",
       "      <td>0.026548</td>\n",
       "      <td>0.1231</td>\n",
       "      <td>0.0142</td>\n",
       "      <td>-0.0695</td>\n",
       "      <td>4</td>\n",
       "    </tr>\n",
       "    <tr>\n",
       "      <th>4</th>\n",
       "      <td>0.027199</td>\n",
       "      <td>0.1231</td>\n",
       "      <td>0.0306</td>\n",
       "      <td>-0.0528</td>\n",
       "      <td>4</td>\n",
       "    </tr>\n",
       "  </tbody>\n",
       "</table>\n",
       "</div>"
      ],
      "text/plain": [
       "       time      ax      ay      az  label\n",
       "0  0.004059  0.0309  0.0060 -0.0613      4\n",
       "1  0.004968  0.0543  0.0129 -0.0618      4\n",
       "2  0.025202  0.0803  0.0316 -0.0764      4\n",
       "3  0.026548  0.1231  0.0142 -0.0695      4\n",
       "4  0.027199  0.1231  0.0306 -0.0528      4"
      ]
     },
     "execution_count": 80,
     "metadata": {},
     "output_type": "execute_result"
    }
   ],
   "source": [
    "sur = sur.rename(columns={\n",
    "    'ax (m/s^2)': 'ax',\n",
    "    'ay (m/s^2)': 'ay', \n",
    "    'az (m/s^2)': 'az'\n",
    "})\n",
    "\n",
    "\n",
    "sur = sur.drop(columns=['aT (m/s^2)'])\n",
    "sur.head()"
   ]
  },
  {
   "cell_type": "markdown",
   "metadata": {
    "id": "gW7vCuF-LvY9"
   },
   "source": [
    "All dataframes have identical structures. There are no missing values. Dtypes are correct. The features needed are:\n",
    "1. ax\n",
    "2. ay\n",
    "3. az\n",
    "4. atotal"
   ]
  },
  {
   "cell_type": "markdown",
   "metadata": {
    "id": "l34UhyeyUOue"
   },
   "source": [
    "# 6.SUST"
   ]
  },
  {
   "cell_type": "code",
   "execution_count": 81,
   "metadata": {
    "id": "LJFw084fUW0Z"
   },
   "outputs": [],
   "source": [
    "# Loading the data\n",
    "sust_file_paths = [\n",
    "    \"./data/SUST/sust1.xlsx\",\n",
    "    \"./data/SUST/sust2.xlsx\",\n",
    "    \"./data/SUST/sust3.xlsx\",\n",
    "    \"./data/SUST/sust4.xlsx\",\n",
    "    \"./data/SUST/sust5.xlsx\",\n",
    "    \"./data/SUST/sust6.xlsx\",\n",
    "    \"./data/SUST/sust7.xlsx\",\n",
    "    \"./data/SUST/sust8.xlsx\",\n",
    "    \"./data/SUST/sust9.xlsx\",\n",
    "    \"./data/SUST/sust10.xlsx\",\n",
    "    \"./data/SUST/sust11.xlsx\",\n",
    "    \"./data/SUST/sust12.xlsx\",\n",
    "    \"./data/SUST/sust13.xlsx\",\n",
    "    \"./data/SUST/sust14.xlsx\",\n",
    "    \"./data/SUST/sust15.xlsx\",\n",
    "    \"./data/SUST/sust16.xlsx\",\n",
    "    \"./data/SUST/sust17.xlsx\",\n",
    "    \"./data/SUST/sust18.xlsx\",\n",
    "    \"./data/SUST/sust19.xlsx\",\n",
    "    \"./data/SUST/sust20.xlsx\",\n",
    "    \"./data/SUST/sust21.xlsx\",\n",
    "    \"./data/SUST/sust22.xlsx\",\n",
    "    \"./data/SUST/sust23.xlsx\",\n",
    "    \"./data/SUST/sust24.xlsx\",\n",
    "    \"./data/SUST/sust25.xlsx\",\n",
    "    \"./data/SUST/sust26.xlsx\",\n",
    "    \"./data/SUST/sust27.xlsx\",\n",
    "    \"./data/SUST/sust28.xlsx\",\n",
    "    \"./data/SUST/sust29.xlsx\",\n",
    "    \"./data/SUST/sust30.xlsx\",\n",
    "    \"./data/SUST/sust31.xlsx\",\n",
    "    \"./data/SUST/sust32.xlsx\",\n",
    "    \"./data/SUST/sust33.xlsx\",\n",
    "    \"./data/SUST/sust34.xlsx\",\n",
    "    \"./data/SUST/sust35.xlsx\",\n",
    "    \"./data/SUST/sust36.xlsx\",\n",
    "    \"./data/SUST/sust37.xlsx\",\n",
    "    \"./data/SUST/sust38.xlsx\",\n",
    "    \"./data/SUST/sust39.xlsx\",\n",
    "    \"./data/SUST/sust40.xlsx\",\n",
    "    \"./data/SUST/sust41.xlsx\",\n",
    "    \"./data/SUST/sust42.xlsx\",\n",
    "    \"./data/SUST/sust43.xlsx\",\n",
    "    \"./data/SUST/sust44.xlsx\",\n",
    "    \"./data/SUST/sust45.xlsx\",\n",
    "    \"./data/SUST/sust46.xlsx\",\n",
    "    \"./data/SUST/sust47.xlsx\",\n",
    "    \"./data/SUST/sust48.xlsx\",\n",
    "    \"./data/SUST/sust49.xlsx\",\n",
    "    \"./data/SUST/sust50.xlsx\",\n",
    "    \"./data/SUST/sust51.xlsx\",\n",
    "    \"./data/SUST/sust52.xlsx\",\n",
    "    \"./data/SUST/sust53.xlsx\",\n",
    "    \"./data/SUST/sust54.xlsx\",\n",
    "    \"./data/SUST/sust55.xlsx\",\n",
    "    \"./data/SUST/sust56.xlsx\",\n",
    "    \"./data/SUST/sust57.xlsx\",\n",
    "    \"./data/SUST/sust58.xlsx\",\n",
    "    \"./data/SUST/sust59.xlsx\",\n",
    "    \"./data/SUST/sust60.xlsx\",\n",
    "    \"./data/SUST/sust61.xlsx\",\n",
    "    \"./data/SUST/sust62.xlsx\",\n",
    "    \"./data/SUST/sust63.xlsx\",\n",
    "    \"./data/SUST/sust64.xlsx\",\n",
    "    \"./data/SUST/sust65.xlsx\",\n",
    "    \"./data/SUST/sust66.xlsx\",\n",
    "    \"./data/SUST/sust67.xlsx\",\n",
    "    \"./data/SUST/sust68.xlsx\",\n",
    "    \"./data/SUST/sust69.xlsx\",\n",
    "    \"./data/SUST/sust70.xlsx\",\n",
    "    \"./data/SUST/sust71.xlsx\",\n",
    "    \"./data/SUST/sust72.xlsx\",\n",
    "    \"./data/SUST/sust73.xlsx\",\n",
    "    \"./data/SUST/sust74.xlsx\",\n",
    "    \"./data/SUST/sust75.xlsx\",\n",
    "    \"./data/SUST/sust76.xlsx\",\n",
    "]\n",
    "\n",
    "sust_dfs = [pd.read_excel(file_path) for file_path in sust_file_paths]"
   ]
  },
  {
   "cell_type": "code",
   "execution_count": 82,
   "metadata": {
    "colab": {
     "base_uri": "https://localhost:8080/",
     "height": 206
    },
    "id": "ss3Pp_LkV8rL",
    "outputId": "04f6b1a7-7823-40e2-b8ab-abf5414fbf32"
   },
   "outputs": [
    {
     "name": "stdout",
     "output_type": "stream",
     "text": [
      "       time  ax (m/s^2)  ay (m/s^2)  az (m/s^2)  atotal  atotal_smoothed  \\\n",
      "0  6.502034      0.8096      0.1133      0.9047   1.219           1.3308   \n",
      "1  6.503388      1.4356     -0.2364      1.2215   1.900           1.7570   \n",
      "2  6.526152      2.2584     -0.4547      1.0068   2.514           1.9558   \n",
      "3  6.526680      2.3045     -0.6803      0.1602   2.408           1.9546   \n",
      "4  6.560057      1.4347     -0.7868     -0.5854   1.738           1.8094   \n",
      "\n",
      "   still  still_change            movement_label  label  \n",
      "0  False            11  anto_situp_to_standing_1      5  \n",
      "1  False            11  anto_situp_to_standing_1      5  \n",
      "2  False            11  anto_situp_to_standing_1      5  \n",
      "3  False            11  anto_situp_to_standing_1      5  \n",
      "4  False            11  anto_situp_to_standing_1      5  \n"
     ]
    }
   ],
   "source": [
    "# Assume dfs_list contains all your individual DataFrames\n",
    "sust = pd.concat(sust_dfs, ignore_index=True)\n",
    "\n",
    "# Label every sample as '1' (push-up transition)\n",
    "sust['label'] =5  # 1 = standing→pushup\n",
    "\n",
    "# Verify\n",
    "print(sust.head())"
   ]
  },
  {
   "cell_type": "code",
   "execution_count": 83,
   "metadata": {
    "colab": {
     "base_uri": "https://localhost:8080/"
    },
    "id": "kjx_UtXhWB4E",
    "outputId": "7e504676-9c08-4d52-ad10-c0f88aabc3a7"
   },
   "outputs": [
    {
     "data": {
      "text/html": [
       "<div>\n",
       "<style scoped>\n",
       "    .dataframe tbody tr th:only-of-type {\n",
       "        vertical-align: middle;\n",
       "    }\n",
       "\n",
       "    .dataframe tbody tr th {\n",
       "        vertical-align: top;\n",
       "    }\n",
       "\n",
       "    .dataframe thead th {\n",
       "        text-align: right;\n",
       "    }\n",
       "</style>\n",
       "<table border=\"1\" class=\"dataframe\">\n",
       "  <thead>\n",
       "    <tr style=\"text-align: right;\">\n",
       "      <th></th>\n",
       "      <th>time</th>\n",
       "      <th>ax</th>\n",
       "      <th>ay</th>\n",
       "      <th>az</th>\n",
       "      <th>label</th>\n",
       "    </tr>\n",
       "  </thead>\n",
       "  <tbody>\n",
       "    <tr>\n",
       "      <th>0</th>\n",
       "      <td>6.502034</td>\n",
       "      <td>0.8096</td>\n",
       "      <td>0.1133</td>\n",
       "      <td>0.9047</td>\n",
       "      <td>5</td>\n",
       "    </tr>\n",
       "    <tr>\n",
       "      <th>1</th>\n",
       "      <td>6.503388</td>\n",
       "      <td>1.4356</td>\n",
       "      <td>-0.2364</td>\n",
       "      <td>1.2215</td>\n",
       "      <td>5</td>\n",
       "    </tr>\n",
       "    <tr>\n",
       "      <th>2</th>\n",
       "      <td>6.526152</td>\n",
       "      <td>2.2584</td>\n",
       "      <td>-0.4547</td>\n",
       "      <td>1.0068</td>\n",
       "      <td>5</td>\n",
       "    </tr>\n",
       "    <tr>\n",
       "      <th>3</th>\n",
       "      <td>6.526680</td>\n",
       "      <td>2.3045</td>\n",
       "      <td>-0.6803</td>\n",
       "      <td>0.1602</td>\n",
       "      <td>5</td>\n",
       "    </tr>\n",
       "    <tr>\n",
       "      <th>4</th>\n",
       "      <td>6.560057</td>\n",
       "      <td>1.4347</td>\n",
       "      <td>-0.7868</td>\n",
       "      <td>-0.5854</td>\n",
       "      <td>5</td>\n",
       "    </tr>\n",
       "  </tbody>\n",
       "</table>\n",
       "</div>"
      ],
      "text/plain": [
       "       time      ax      ay      az  label\n",
       "0  6.502034  0.8096  0.1133  0.9047      5\n",
       "1  6.503388  1.4356 -0.2364  1.2215      5\n",
       "2  6.526152  2.2584 -0.4547  1.0068      5\n",
       "3  6.526680  2.3045 -0.6803  0.1602      5\n",
       "4  6.560057  1.4347 -0.7868 -0.5854      5"
      ]
     },
     "execution_count": 83,
     "metadata": {},
     "output_type": "execute_result"
    }
   ],
   "source": [
    "sust = sust.rename(columns={\n",
    "    'ax (m/s^2)': 'ax',\n",
    "    'ay (m/s^2)': 'ay', \n",
    "    'az (m/s^2)': 'az'\n",
    "})\n",
    "\n",
    "\n",
    "sust = sust.drop(columns=['atotal','atotal_smoothed', 'still', 'still_change', 'movement_label'])\n",
    "sust.head()"
   ]
  },
  {
   "cell_type": "markdown",
   "metadata": {
    "id": "JHVCoXlSWcxq"
   },
   "source": [
    "All dataframes have identical structures. There are no missing values. The features needed are:\n",
    "1. ax\n",
    "2. ay\n",
    "3. az\n",
    "4. atotal"
   ]
  },
  {
   "cell_type": "markdown",
   "metadata": {
    "id": "R1Wzm7RwbCgA"
   },
   "source": [
    "# Preparing the data for DL"
   ]
  },
  {
   "cell_type": "code",
   "execution_count": 84,
   "metadata": {
    "colab": {
     "base_uri": "https://localhost:8080/"
    },
    "id": "UcD3_QNqbWKC",
    "outputId": "852df32d-8572-498d-b055-d2dae59595a5"
   },
   "outputs": [
    {
     "name": "stdout",
     "output_type": "stream",
     "text": [
      "        time      ax      ay      az  label\n",
      "0  76.451308 -0.6297 -0.0880  0.2512      0\n",
      "1  76.452642 -0.7964 -0.1188 -0.4001      0\n",
      "2  76.453499 -1.0984 -0.1765 -0.9910      0\n",
      "3  76.454424 -1.3275 -0.2179 -1.2456      0\n",
      "4  76.455192 -1.3682 -0.3023 -1.0842      0\n",
      "       time      ax      ay      az  label\n",
      "0  0.002824 -0.0072  0.1448  0.0007      1\n",
      "1  0.003206 -0.0257  0.0913 -0.0591      1\n",
      "2  0.008790 -0.0057  0.0301 -0.1714      1\n",
      "3  0.021622 -0.0379 -0.0295 -0.2115      1\n",
      "4  0.022046 -0.0600 -0.0296 -0.1485      1\n",
      "       time      ax      ay      az  label\n",
      "0  6.846770 -0.4639 -0.0370 -0.8992      2\n",
      "1  6.848285 -0.5158  0.1646 -1.1533      2\n",
      "2  6.850284 -0.5547  0.3096 -1.4640      2\n",
      "3  6.863154 -0.7353  0.3796 -1.3543      2\n",
      "4  6.865061 -0.8782  0.3255 -1.1358      2\n",
      "        time      ax      ay      az  label\n",
      "0  21.379306 -0.7272 -0.2440  0.0860      3\n",
      "1  21.410267 -0.9535 -0.5128 -0.5733      3\n",
      "2  21.411194 -1.1801 -0.7683 -1.0380      3\n",
      "3  21.412300 -1.2524 -0.9034 -1.2055      3\n",
      "4  21.413625 -1.1681 -0.9134 -1.1043      3\n",
      "       time      ax      ay      az  label\n",
      "0  0.004059  0.0309  0.0060 -0.0613      4\n",
      "1  0.004968  0.0543  0.0129 -0.0618      4\n",
      "2  0.025202  0.0803  0.0316 -0.0764      4\n",
      "3  0.026548  0.1231  0.0142 -0.0695      4\n",
      "4  0.027199  0.1231  0.0306 -0.0528      4\n",
      "       time      ax      ay      az  label\n",
      "0  6.502034  0.8096  0.1133  0.9047      5\n",
      "1  6.503388  1.4356 -0.2364  1.2215      5\n",
      "2  6.526152  2.2584 -0.4547  1.0068      5\n",
      "3  6.526680  2.3045 -0.6803  0.1602      5\n",
      "4  6.560057  1.4347 -0.7868 -0.5854      5\n"
     ]
    }
   ],
   "source": [
    "# Checking the shapes of the dfs\n",
    "print(stpu.head())\n",
    "print(pur.head())\n",
    "print(pust.head())\n",
    "print(stsu.head())\n",
    "print(sur.head())\n",
    "print(sust.head())"
   ]
  },
  {
   "cell_type": "code",
   "execution_count": 85,
   "metadata": {
    "id": "Ddsijx_feldd"
   },
   "outputs": [],
   "source": [
    "data = pd.concat([stpu, pur, pust, stsu, sur, sust], ignore_index=True)"
   ]
  },
  {
   "cell_type": "code",
   "execution_count": 86,
   "metadata": {
    "colab": {
     "base_uri": "https://localhost:8080/"
    },
    "id": "PDIZub0xfX7s",
    "outputId": "79c89b82-4b21-4e1d-d05f-3addb7b937c6"
   },
   "outputs": [
    {
     "name": "stdout",
     "output_type": "stream",
     "text": [
      "         ax        ay        az      time  label\n",
      "0 -0.233897 -0.064767  0.344845  1.276737      0\n",
      "1 -0.306327 -0.086218  0.044815  1.276781      0\n",
      "2 -0.437546 -0.126405 -0.227391  1.276809      0\n",
      "3 -0.537089 -0.155239 -0.344676  1.276839      0\n",
      "4 -0.554773 -0.214023 -0.270325  1.276865      0\n"
     ]
    }
   ],
   "source": [
    "import pandas as pd\n",
    "from sklearn.preprocessing import StandardScaler\n",
    "\n",
    "# 1. Select ONLY numeric features for scaling\n",
    "numeric_cols = ['ax', 'ay', 'az', 'time']  # Adjust based on your actual columns\n",
    "X_numeric = data[numeric_cols]\n",
    "\n",
    "# 2. Scale numeric features\n",
    "scaler = StandardScaler()\n",
    "X_scaled = scaler.fit_transform(X_numeric)\n",
    "X_scaled = pd.DataFrame(X_scaled, columns=numeric_cols)\n",
    "\n",
    "# 3. Keep labels separate\n",
    "y = data['label']\n",
    "\n",
    "# 4. Combine scaled features with labels if needed\n",
    "data_scaled = pd.concat([X_scaled, y.reset_index(drop=True)], axis=1)\n",
    "\n",
    "# 5. Verify\n",
    "print(data_scaled.head())"
   ]
  },
  {
   "cell_type": "code",
   "execution_count": 87,
   "metadata": {},
   "outputs": [
    {
     "name": "stdout",
     "output_type": "stream",
     "text": [
      "(2850, 100, 3)\n",
      "(2850,)\n"
     ]
    }
   ],
   "source": [
    "import numpy as np\n",
    "\n",
    "# Group into sequences of 100 timesteps\n",
    "def create_sequences(data_scaled, window_size=100, step=50):\n",
    "    X, y = [], []\n",
    "    for i in range(0, len(data) - window_size, step):\n",
    "        seq = data[['ax', 'ay', 'az']].iloc[i:i+window_size].values\n",
    "        label = data['label'].iloc[i+window_size]  # Label at window end\n",
    "        X.append(seq)\n",
    "        y.append(label)\n",
    "    return np.array(X), np.array(y)\n",
    "\n",
    "X_sequences, y_sequences = create_sequences(data_scaled)\n",
    "print(X_sequences.shape)  # (n_sequences, 100, 3)\n",
    "print(y_sequences.shape)"
   ]
  },
  {
   "cell_type": "code",
   "execution_count": 88,
   "metadata": {},
   "outputs": [
    {
     "data": {
      "text/plain": [
       "array([0, 0, 0, ..., 5, 5, 5], dtype=int64)"
      ]
     },
     "execution_count": 88,
     "metadata": {},
     "output_type": "execute_result"
    }
   ],
   "source": [
    "X_sequences\n",
    "y_sequences"
   ]
  },
  {
   "cell_type": "code",
   "execution_count": 89,
   "metadata": {
    "colab": {
     "base_uri": "https://localhost:8080/",
     "height": 303
    },
    "id": "XrKiZnn8sDyo",
    "outputId": "87b82337-613d-425f-ad24-9398c8502006"
   },
   "outputs": [
    {
     "data": {
      "text/plain": [
       "label\n",
       "5    31219\n",
       "4    28250\n",
       "3    26794\n",
       "2    21166\n",
       "1    17728\n",
       "0    17442\n",
       "Name: count, dtype: int64"
      ]
     },
     "execution_count": 89,
     "metadata": {},
     "output_type": "execute_result"
    }
   ],
   "source": [
    "data.label.value_counts()"
   ]
  },
  {
   "cell_type": "code",
   "execution_count": 90,
   "metadata": {
    "colab": {
     "base_uri": "https://localhost:8080/",
     "height": 255
    },
    "id": "gSwsMFlItLK5",
    "outputId": "0637f1a4-f0fe-4771-a2ec-abf97ff832d4"
   },
   "outputs": [
    {
     "name": "stdout",
     "output_type": "stream",
     "text": [
      "Unique labels: [0 1 2 3 4 5]\n",
      "\n",
      "Training:\n",
      "Epoch 1/20\n",
      "72/72 [==============================] - 19s 151ms/step - loss: 1.6107 - accuracy: 0.3175 - val_loss: 1.4847 - val_accuracy: 0.3789\n",
      "Epoch 2/20\n",
      "72/72 [==============================] - 8s 116ms/step - loss: 1.4705 - accuracy: 0.3904 - val_loss: 1.4669 - val_accuracy: 0.3807\n",
      "Epoch 3/20\n",
      "72/72 [==============================] - 9s 119ms/step - loss: 1.3033 - accuracy: 0.4715 - val_loss: 1.3921 - val_accuracy: 0.4018\n",
      "Epoch 4/20\n",
      "72/72 [==============================] - 12s 172ms/step - loss: 1.2378 - accuracy: 0.5083 - val_loss: 1.4167 - val_accuracy: 0.4070\n",
      "Epoch 5/20\n",
      "72/72 [==============================] - 12s 167ms/step - loss: 1.1333 - accuracy: 0.5373 - val_loss: 1.1082 - val_accuracy: 0.5404\n",
      "Epoch 6/20\n",
      "72/72 [==============================] - 12s 161ms/step - loss: 1.0517 - accuracy: 0.5873 - val_loss: 1.2003 - val_accuracy: 0.5211\n",
      "Epoch 7/20\n",
      "72/72 [==============================] - 12s 167ms/step - loss: 1.0123 - accuracy: 0.6039 - val_loss: 1.1097 - val_accuracy: 0.5702\n",
      "Epoch 8/20\n",
      "72/72 [==============================] - 9s 124ms/step - loss: 1.0068 - accuracy: 0.6044 - val_loss: 1.0203 - val_accuracy: 0.5947\n",
      "Epoch 9/20\n",
      "72/72 [==============================] - 11s 151ms/step - loss: 0.8818 - accuracy: 0.6548 - val_loss: 0.9371 - val_accuracy: 0.6281\n",
      "Epoch 10/20\n",
      "72/72 [==============================] - 10s 144ms/step - loss: 0.8241 - accuracy: 0.6846 - val_loss: 1.0087 - val_accuracy: 0.5982\n",
      "Epoch 11/20\n",
      "72/72 [==============================] - 9s 128ms/step - loss: 0.7760 - accuracy: 0.7026 - val_loss: 0.8801 - val_accuracy: 0.6737\n",
      "Epoch 12/20\n",
      "72/72 [==============================] - 12s 160ms/step - loss: 0.7259 - accuracy: 0.7197 - val_loss: 0.7546 - val_accuracy: 0.7158\n",
      "Epoch 13/20\n",
      "72/72 [==============================] - 9s 123ms/step - loss: 0.6492 - accuracy: 0.7553 - val_loss: 0.7149 - val_accuracy: 0.7298\n",
      "Epoch 14/20\n",
      "72/72 [==============================] - 10s 136ms/step - loss: 0.5581 - accuracy: 0.7930 - val_loss: 0.6352 - val_accuracy: 0.7754\n",
      "Epoch 15/20\n",
      "72/72 [==============================] - 12s 169ms/step - loss: 0.5143 - accuracy: 0.8167 - val_loss: 0.7352 - val_accuracy: 0.7404\n",
      "Epoch 16/20\n",
      "72/72 [==============================] - 8s 116ms/step - loss: 0.5904 - accuracy: 0.7912 - val_loss: 0.7346 - val_accuracy: 0.7386\n",
      "Epoch 17/20\n",
      "72/72 [==============================] - 11s 152ms/step - loss: 0.4653 - accuracy: 0.8333 - val_loss: 0.6510 - val_accuracy: 0.7579\n",
      "Epoch 18/20\n",
      "72/72 [==============================] - 11s 147ms/step - loss: 0.4244 - accuracy: 0.8539 - val_loss: 0.6424 - val_accuracy: 0.7754\n",
      "Epoch 19/20\n",
      "72/72 [==============================] - 8s 118ms/step - loss: 0.3843 - accuracy: 0.8627 - val_loss: 0.5826 - val_accuracy: 0.8088\n",
      "Epoch 20/20\n",
      "72/72 [==============================] - 12s 164ms/step - loss: 0.3163 - accuracy: 0.8895 - val_loss: 0.5983 - val_accuracy: 0.8088\n",
      "\n",
      "Final Test Evaluation:\n",
      "18/18 [==============================] - 2s 33ms/step\n",
      "\n",
      "Classification Report:\n",
      "              precision    recall  f1-score   support\n",
      "\n",
      "           0       0.74      0.49      0.59        69\n",
      "           1       0.98      0.89      0.93        71\n",
      "           2       0.78      0.89      0.83        85\n",
      "           3       0.86      0.65      0.74       107\n",
      "           4       0.91      0.96      0.93       113\n",
      "           5       0.68      0.88      0.77       125\n",
      "\n",
      "    accuracy                           0.81       570\n",
      "   macro avg       0.82      0.79      0.80       570\n",
      "weighted avg       0.82      0.81      0.80       570\n",
      "\n",
      "\n",
      "Confusion Matrix:\n",
      "[[ 34   0  10   5   2  18]\n",
      " [  0  63   2   0   4   2]\n",
      " [  2   0  76   0   0   7]\n",
      " [  6   0   1  70   5  25]\n",
      " [  0   1   0   4 108   0]\n",
      " [  4   0   9   2   0 110]]\n"
     ]
    }
   ],
   "source": [
    "import numpy as np\n",
    "from tensorflow.keras.models import Sequential\n",
    "from tensorflow.keras.layers import Conv1D, LSTM, Dense\n",
    "from sklearn.model_selection import train_test_split\n",
    "from sklearn.metrics import classification_report, confusion_matrix\n",
    "\n",
    "\n",
    "print(\"Unique labels:\", np.unique(y))  # Verify: [0 1 2 3 4 5]\n",
    "\n",
    "# 2. Split into training (80%) and testing (20%) sets\n",
    "X_train, X_test, y_train, y_test = train_test_split(\n",
    "    X_sequences, y_sequences, \n",
    "    test_size=0.2, \n",
    "    random_state=42,\n",
    "    stratify=y_sequences  # Preserves class distribution\n",
    ")\n",
    "\n",
    "# 3. Build model\n",
    "model = Sequential([\n",
    "    Conv1D(64, kernel_size=5, activation='relu', input_shape=(100, 3)),\n",
    "    LSTM(128, return_sequences=True),\n",
    "    LSTM(64),\n",
    "    Dense(6, activation='softmax')  # 6 units for 6 classes\n",
    "])\n",
    "\n",
    "# 4. Compile\n",
    "model.compile(\n",
    "    optimizer='adam',\n",
    "    loss='sparse_categorical_crossentropy',\n",
    "    metrics=['accuracy']\n",
    ")\n",
    "\n",
    "# 5. Train\n",
    "print(\"\\nTraining:\")\n",
    "history = model.fit(\n",
    "    X_train, y_train,\n",
    "    epochs=20,\n",
    "    batch_size=32,\n",
    "    validation_data=(X_test, y_test),  # Evaluate on test set each epoch\n",
    "    verbose=1\n",
    ")\n",
    "\n",
    "# 6. Evaluate on test set\n",
    "print(\"\\nFinal Test Evaluation:\")\n",
    "y_pred = model.predict(X_test)\n",
    "y_pred_classes = np.argmax(y_pred, axis=1)\n",
    "\n",
    "# 7. Metrics\n",
    "print(\"\\nClassification Report:\")\n",
    "print(classification_report(y_test, y_pred_classes))\n",
    "\n",
    "print(\"\\nConfusion Matrix:\")\n",
    "print(confusion_matrix(y_test, y_pred_classes))"
   ]
  },
  {
   "cell_type": "code",
   "execution_count": 92,
   "metadata": {
    "id": "iNxDD6LztQXx"
   },
   "outputs": [],
   "source": [
    "model.save('model_new.keras')"
   ]
  }
 ],
 "metadata": {
  "colab": {
   "provenance": []
  },
  "kernelspec": {
   "display_name": "Python 3 (ipykernel)",
   "language": "python",
   "name": "python3"
  },
  "language_info": {
   "codemirror_mode": {
    "name": "ipython",
    "version": 3
   },
   "file_extension": ".py",
   "mimetype": "text/x-python",
   "name": "python",
   "nbconvert_exporter": "python",
   "pygments_lexer": "ipython3",
   "version": "3.8.19"
  }
 },
 "nbformat": 4,
 "nbformat_minor": 1
}
